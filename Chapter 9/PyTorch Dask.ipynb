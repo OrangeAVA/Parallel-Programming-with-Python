{
 "cells": [
  {
   "cell_type": "code",
   "execution_count": 1,
   "id": "dea30b93",
   "metadata": {},
   "outputs": [
    {
     "name": "stderr",
     "output_type": "stream",
     "text": [
      "C:\\Users\\nelli\\anaconda3\\envs\\Deep2\\lib\\site-packages\\tqdm\\auto.py:22: TqdmWarning: IProgress not found. Please update jupyter and ipywidgets. See https://ipywidgets.readthedocs.io/en/stable/user_install.html\n",
      "  from .autonotebook import tqdm as notebook_tqdm\n"
     ]
    }
   ],
   "source": [
    "import torch\n",
    "from torch.utils.data import Dataset\n",
    "from torchvision import datasets\n",
    "from torchvision.transforms import ToTensor\n",
    "\n",
    "training_data = datasets.FashionMNIST(\n",
    "    root=\"data\",\n",
    "    train=True,\n",
    "    download=True,\n",
    "    transform=ToTensor()\n",
    ")\n",
    "\n",
    "test_data = datasets.FashionMNIST(\n",
    "    root=\"data\",\n",
    "    train=False,\n",
    "    download=True,\n",
    "    transform=ToTensor()\n",
    ")"
   ]
  },
  {
   "cell_type": "code",
   "execution_count": 2,
   "id": "1f840c57",
   "metadata": {},
   "outputs": [],
   "source": [
    "import dask\n",
    "#from dask_saturn import SaturnCluster\n",
    "from dask.distributed import Client\n",
    "#from distributed.worker import logger"
   ]
  },
  {
   "cell_type": "code",
   "execution_count": 3,
   "id": "c690843e",
   "metadata": {},
   "outputs": [],
   "source": [
    "import torch\n",
    "import torch.nn as nn\n",
    "from torch.autograd import Variable\n",
    "\n",
    "import torchvision\n",
    "import torchvision.transforms as transforms\n",
    "from torch.utils.data import Dataset, DataLoader"
   ]
  },
  {
   "cell_type": "code",
   "execution_count": 4,
   "id": "902b3583",
   "metadata": {},
   "outputs": [],
   "source": [
    "class FashionCNN(nn.Module):\n",
    "    \n",
    "    def __init__(self):\n",
    "        super(FashionCNN, self).__init__()\n",
    "        \n",
    "        self.layer1 = nn.Sequential(\n",
    "            nn.Conv2d(in_channels=1, out_channels=32, kernel_size=3, padding=1),\n",
    "            nn.BatchNorm2d(32),\n",
    "            nn.ReLU(),\n",
    "            nn.MaxPool2d(kernel_size=2, stride=2)\n",
    "        )\n",
    "        \n",
    "        self.layer2 = nn.Sequential(\n",
    "            nn.Conv2d(in_channels=32, out_channels=64, kernel_size=3),\n",
    "            nn.BatchNorm2d(64),\n",
    "            nn.ReLU(),\n",
    "            nn.MaxPool2d(2)\n",
    "        )\n",
    "        \n",
    "        self.fc1 = nn.Linear(in_features=64*6*6, out_features=600)\n",
    "        self.drop = nn.Dropout2d(0.25)\n",
    "        self.fc2 = nn.Linear(in_features=600, out_features=120)\n",
    "        self.fc3 = nn.Linear(in_features=120, out_features=10)\n",
    "        \n",
    "    def forward(self, x):\n",
    "        out = self.layer1(x)\n",
    "        out = self.layer2(out)\n",
    "        out = out.view(out.size(0), -1)\n",
    "        out = self.fc1(out)\n",
    "        out = self.drop(out)\n",
    "        out = self.fc2(out)\n",
    "        out = self.fc3(out)\n",
    "        return out\n"
   ]
  },
  {
   "cell_type": "code",
   "execution_count": 5,
   "id": "501075eb",
   "metadata": {},
   "outputs": [],
   "source": [
    "#n_workers = 3\n",
    "#cluster = SaturnCluster(n_workers=n_workers)\n",
    "#client = Client(cluster)\n",
    "#client.wait_for_workers(n_workers)\n",
    "\n",
    "client = Client()"
   ]
  },
  {
   "cell_type": "code",
   "execution_count": 6,
   "id": "fef1f64b",
   "metadata": {},
   "outputs": [],
   "source": [
    "# Lists for knowing classwise accuracy\n",
    "predictions_list = []\n",
    "labels_list = []"
   ]
  },
  {
   "cell_type": "code",
   "execution_count": 7,
   "id": "872534cd",
   "metadata": {},
   "outputs": [],
   "source": [
    "import datetime\n",
    "\n",
    "@dask.delayed\n",
    "def train(experiment):\n",
    "    # experiment\n",
    "    batch_size, learning_rate = experiment\n",
    "    train_loader = torch.utils.data.DataLoader(training_data,batch_size)\n",
    "    test_loader = torch.utils.data.DataLoader(test_data,batch_size)\n",
    "    \n",
    "    device = torch.device('cuda:0')\n",
    "    num_epochs = 5\n",
    "    count = 0\n",
    "    model = FashionCNN()\n",
    "    model.to(device)\n",
    "    error = nn.CrossEntropyLoss()\n",
    "    learning_rate = 0.001\n",
    "    optimizer = torch.optim.Adam(model.parameters(), lr=learning_rate)    \n",
    "    \n",
    "    \n",
    "    training_start_time = datetime.datetime.now()\n",
    "    # print out\n",
    "    results = []\n",
    "\n",
    "    for epoch in range(num_epochs):\n",
    "        for images, labels in train_loader:\n",
    "            images, labels = images.to(device), labels.to(device)\n",
    "            train = Variable(images.view(100, 1, 28, 28))\n",
    "            labels = Variable(labels)\n",
    "            outputs = model(train)\n",
    "            loss = error(outputs, labels)\n",
    "            optimizer.zero_grad()\n",
    "            loss.backward()\n",
    "            optimizer.step()\n",
    "            count += 1\n",
    "\n",
    "        # Testing the model\n",
    "            if not (count % 50):    # It's same as \"if count % 50 == 0\"\n",
    "                total = 0\n",
    "                correct = 0\n",
    "                for images, labels in test_loader:\n",
    "                    images, labels = images.to(device), labels.to(device)\n",
    "                    labels_list.append(labels)\n",
    "                    test = Variable(images.view(100, 1, 28, 28))\n",
    "                    outputs = model(test)\n",
    "                    predictions = torch.max(outputs, 1)[1].to(device)\n",
    "                    predictions_list.append(predictions)\n",
    "                    correct += (predictions == labels).sum()\n",
    "                    total += len(labels)\n",
    "                    \n",
    "                accuracy = correct * 100 / total   \n",
    "                new_results = {\n",
    "                   \"batch_size\": batch_size,\n",
    "                   \"loss\": loss.data.item(),\n",
    "                   \"iteration\": count,\n",
    "                   \"accuracy\": accuracy.item(),\n",
    "                   \"elapsed_time_sec\": (datetime.datetime.now() - training_start_time).total_seconds(),\n",
    "                }\n",
    "                results.append(new_results)  \n",
    "   \n",
    "    return results"
   ]
  },
  {
   "cell_type": "code",
   "execution_count": 8,
   "id": "45b82853",
   "metadata": {},
   "outputs": [],
   "source": [
    "#list of experiments (batch_size, learning_rate)\n",
    "#inputs = [(100, 0.001), (100, 0.001), (100, 0.001), (100, 0.001)]\n",
    "experiments = [(100, 0.001)]\n",
    "train_future = client.map(train, experiments)"
   ]
  },
  {
   "cell_type": "code",
   "execution_count": 9,
   "id": "6a25089b",
   "metadata": {},
   "outputs": [],
   "source": [
    "futures_gathered = client.gather(train_future)"
   ]
  },
  {
   "cell_type": "code",
   "execution_count": 10,
   "id": "a73892fb",
   "metadata": {},
   "outputs": [],
   "source": [
    "futures_computed = client.compute(futures_gathered)"
   ]
  },
  {
   "cell_type": "code",
   "execution_count": 11,
   "id": "48b5ef67",
   "metadata": {},
   "outputs": [],
   "source": [
    "results = [x.result() for x in futures_computed]"
   ]
  },
  {
   "cell_type": "code",
   "execution_count": 16,
   "id": "24f1a31f",
   "metadata": {},
   "outputs": [
    {
     "data": {
      "text/html": [
       "<div>\n",
       "<style scoped>\n",
       "    .dataframe tbody tr th:only-of-type {\n",
       "        vertical-align: middle;\n",
       "    }\n",
       "\n",
       "    .dataframe tbody tr th {\n",
       "        vertical-align: top;\n",
       "    }\n",
       "\n",
       "    .dataframe thead th {\n",
       "        text-align: right;\n",
       "    }\n",
       "</style>\n",
       "<table border=\"1\" class=\"dataframe\">\n",
       "  <thead>\n",
       "    <tr style=\"text-align: right;\">\n",
       "      <th></th>\n",
       "      <th>batch_size</th>\n",
       "      <th>loss</th>\n",
       "      <th>iteration</th>\n",
       "      <th>accuracy</th>\n",
       "      <th>elapsed_time_sec</th>\n",
       "    </tr>\n",
       "  </thead>\n",
       "  <tbody>\n",
       "    <tr>\n",
       "      <th>0</th>\n",
       "      <td>100</td>\n",
       "      <td>0.446040</td>\n",
       "      <td>50</td>\n",
       "      <td>80.779999</td>\n",
       "      <td>4.762428</td>\n",
       "    </tr>\n",
       "    <tr>\n",
       "      <th>1</th>\n",
       "      <td>100</td>\n",
       "      <td>0.545907</td>\n",
       "      <td>100</td>\n",
       "      <td>82.389999</td>\n",
       "      <td>8.147475</td>\n",
       "    </tr>\n",
       "    <tr>\n",
       "      <th>2</th>\n",
       "      <td>100</td>\n",
       "      <td>0.513924</td>\n",
       "      <td>150</td>\n",
       "      <td>85.379997</td>\n",
       "      <td>11.207155</td>\n",
       "    </tr>\n",
       "    <tr>\n",
       "      <th>3</th>\n",
       "      <td>100</td>\n",
       "      <td>0.406646</td>\n",
       "      <td>200</td>\n",
       "      <td>86.110001</td>\n",
       "      <td>14.164868</td>\n",
       "    </tr>\n",
       "    <tr>\n",
       "      <th>4</th>\n",
       "      <td>100</td>\n",
       "      <td>0.388509</td>\n",
       "      <td>250</td>\n",
       "      <td>84.759995</td>\n",
       "      <td>16.760471</td>\n",
       "    </tr>\n",
       "    <tr>\n",
       "      <th>5</th>\n",
       "      <td>100</td>\n",
       "      <td>0.372058</td>\n",
       "      <td>300</td>\n",
       "      <td>86.860001</td>\n",
       "      <td>19.718247</td>\n",
       "    </tr>\n",
       "    <tr>\n",
       "      <th>6</th>\n",
       "      <td>100</td>\n",
       "      <td>0.360087</td>\n",
       "      <td>350</td>\n",
       "      <td>86.970001</td>\n",
       "      <td>22.391748</td>\n",
       "    </tr>\n",
       "    <tr>\n",
       "      <th>7</th>\n",
       "      <td>100</td>\n",
       "      <td>0.461946</td>\n",
       "      <td>400</td>\n",
       "      <td>83.979996</td>\n",
       "      <td>25.316237</td>\n",
       "    </tr>\n",
       "    <tr>\n",
       "      <th>8</th>\n",
       "      <td>100</td>\n",
       "      <td>0.668416</td>\n",
       "      <td>450</td>\n",
       "      <td>84.930000</td>\n",
       "      <td>28.051320</td>\n",
       "    </tr>\n",
       "    <tr>\n",
       "      <th>9</th>\n",
       "      <td>100</td>\n",
       "      <td>0.486805</td>\n",
       "      <td>500</td>\n",
       "      <td>87.669998</td>\n",
       "      <td>30.677633</td>\n",
       "    </tr>\n",
       "  </tbody>\n",
       "</table>\n",
       "</div>"
      ],
      "text/plain": [
       "   batch_size      loss  iteration   accuracy  elapsed_time_sec\n",
       "0         100  0.446040         50  80.779999          4.762428\n",
       "1         100  0.545907        100  82.389999          8.147475\n",
       "2         100  0.513924        150  85.379997         11.207155\n",
       "3         100  0.406646        200  86.110001         14.164868\n",
       "4         100  0.388509        250  84.759995         16.760471\n",
       "5         100  0.372058        300  86.860001         19.718247\n",
       "6         100  0.360087        350  86.970001         22.391748\n",
       "7         100  0.461946        400  83.979996         25.316237\n",
       "8         100  0.668416        450  84.930000         28.051320\n",
       "9         100  0.486805        500  87.669998         30.677633"
      ]
     },
     "execution_count": 16,
     "metadata": {},
     "output_type": "execute_result"
    }
   ],
   "source": [
    "import pandas as pd\n",
    "\n",
    "results_concatenated = [item for sublist in results for item in sublist]\n",
    "results_df = pd.DataFrame.from_dict(results_concatenated)\n",
    "results_df.head(10)"
   ]
  },
  {
   "cell_type": "code",
   "execution_count": 17,
   "id": "a0770f66",
   "metadata": {},
   "outputs": [
    {
     "data": {
      "text/html": [
       "<div>\n",
       "<style scoped>\n",
       "    .dataframe tbody tr th:only-of-type {\n",
       "        vertical-align: middle;\n",
       "    }\n",
       "\n",
       "    .dataframe tbody tr th {\n",
       "        vertical-align: top;\n",
       "    }\n",
       "\n",
       "    .dataframe thead th {\n",
       "        text-align: right;\n",
       "    }\n",
       "</style>\n",
       "<table border=\"1\" class=\"dataframe\">\n",
       "  <thead>\n",
       "    <tr style=\"text-align: right;\">\n",
       "      <th></th>\n",
       "      <th>batch_size</th>\n",
       "      <th>loss</th>\n",
       "      <th>iteration</th>\n",
       "      <th>accuracy</th>\n",
       "      <th>elapsed_time_sec</th>\n",
       "    </tr>\n",
       "  </thead>\n",
       "  <tbody>\n",
       "    <tr>\n",
       "      <th>55</th>\n",
       "      <td>100</td>\n",
       "      <td>0.294967</td>\n",
       "      <td>2800</td>\n",
       "      <td>90.099998</td>\n",
       "      <td>158.686704</td>\n",
       "    </tr>\n",
       "    <tr>\n",
       "      <th>56</th>\n",
       "      <td>100</td>\n",
       "      <td>0.458460</td>\n",
       "      <td>2850</td>\n",
       "      <td>89.939995</td>\n",
       "      <td>161.465027</td>\n",
       "    </tr>\n",
       "    <tr>\n",
       "      <th>57</th>\n",
       "      <td>100</td>\n",
       "      <td>0.235022</td>\n",
       "      <td>2900</td>\n",
       "      <td>90.409996</td>\n",
       "      <td>164.436711</td>\n",
       "    </tr>\n",
       "    <tr>\n",
       "      <th>58</th>\n",
       "      <td>100</td>\n",
       "      <td>0.153714</td>\n",
       "      <td>2950</td>\n",
       "      <td>90.029999</td>\n",
       "      <td>167.063556</td>\n",
       "    </tr>\n",
       "    <tr>\n",
       "      <th>59</th>\n",
       "      <td>100</td>\n",
       "      <td>0.156465</td>\n",
       "      <td>3000</td>\n",
       "      <td>90.570000</td>\n",
       "      <td>169.751957</td>\n",
       "    </tr>\n",
       "  </tbody>\n",
       "</table>\n",
       "</div>"
      ],
      "text/plain": [
       "    batch_size      loss  iteration   accuracy  elapsed_time_sec\n",
       "55         100  0.294967       2800  90.099998        158.686704\n",
       "56         100  0.458460       2850  89.939995        161.465027\n",
       "57         100  0.235022       2900  90.409996        164.436711\n",
       "58         100  0.153714       2950  90.029999        167.063556\n",
       "59         100  0.156465       3000  90.570000        169.751957"
      ]
     },
     "execution_count": 17,
     "metadata": {},
     "output_type": "execute_result"
    }
   ],
   "source": [
    "results_df.tail()"
   ]
  },
  {
   "cell_type": "code",
   "execution_count": 13,
   "id": "71685072",
   "metadata": {},
   "outputs": [
    {
     "data": {
      "image/png": "[encoded data removed]",
      "text/plain": [
       "<Figure size 640x480 with 1 Axes>"
      ]
     },
     "metadata": {},
     "output_type": "display_data"
    }
   ],
   "source": [
    "import matplotlib.pyplot as plt\n",
    "\n",
    "plt.plot(results_df['iteration'], results_df['loss'])\n",
    "plt.show()"
   ]
  },
  {
   "cell_type": "code",
   "execution_count": 14,
   "id": "15009e76",
   "metadata": {},
   "outputs": [
    {
     "data": {
      "image/png": "[encoded data removed]",
      "text/plain": [
       "<Figure size 640x480 with 1 Axes>"
      ]
     },
     "metadata": {},
     "output_type": "display_data"
    }
   ],
   "source": [
    "plt.plot(results_df['iteration'], results_df['accuracy'])\n",
    "plt.show()"
   ]
  },
  {
   "cell_type": "code",
   "execution_count": 15,
   "id": "081e1f0b",
   "metadata": {},
   "outputs": [
    {
     "data": {
      "image/png": "[encoded data removed]",
      "text/plain": [
       "<Figure size 640x480 with 1 Axes>"
      ]
     },
     "metadata": {},
     "output_type": "display_data"
    }
   ],
   "source": [
    "plt.plot(results_df['iteration'], results_df['elapsed_time_sec'])\n",
    "plt.show()"
   ]
  },
  {
   "cell_type": "code",
   "execution_count": null,
   "id": "34d30329",
   "metadata": {},
   "outputs": [],
   "source": []
  }
 ],
 "metadata": {
  "kernelspec": {
   "display_name": "Python 3 (ipykernel)",
   "language": "python",
   "name": "python3"
  },
  "language_info": {
   "codemirror_mode": {
    "name": "ipython",
    "version": 3
   },
   "file_extension": ".py",
   "mimetype": "text/x-python",
   "name": "python",
   "nbconvert_exporter": "python",
   "pygments_lexer": "ipython3",
   "version": "3.10.9"
  }
 },
 "nbformat": 4,
 "nbformat_minor": 5
}
