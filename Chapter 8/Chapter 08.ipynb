{
 "cells": [
  {
   "cell_type": "markdown",
   "id": "c11af582",
   "metadata": {},
   "source": [
    "# Getting start"
   ]
  },
  {
   "cell_type": "code",
   "execution_count": 1,
   "id": "da25661e",
   "metadata": {},
   "outputs": [],
   "source": [
    "import numpy as np\n",
    "import pandas as pd\n",
    "\n",
    "import dask.dataframe as dd\n",
    "import dask.array as da\n",
    "import dask.bag as db\n"
   ]
  },
  {
   "cell_type": "markdown",
   "id": "25eb101a",
   "metadata": {},
   "source": [
    "# Collections"
   ]
  },
  {
   "cell_type": "code",
   "execution_count": 3,
   "id": "eb7aed6f",
   "metadata": {},
   "outputs": [
    {
     "data": {
      "text/html": [
       "<div>\n",
       "<style scoped>\n",
       "    .dataframe tbody tr th:only-of-type {\n",
       "        vertical-align: middle;\n",
       "    }\n",
       "\n",
       "    .dataframe tbody tr th {\n",
       "        vertical-align: top;\n",
       "    }\n",
       "\n",
       "    .dataframe thead th {\n",
       "        text-align: right;\n",
       "    }\n",
       "</style>\n",
       "<table border=\"1\" class=\"dataframe\">\n",
       "  <thead>\n",
       "    <tr style=\"text-align: right;\">\n",
       "      <th></th>\n",
       "      <th>0</th>\n",
       "      <th>1</th>\n",
       "      <th>2</th>\n",
       "      <th>3</th>\n",
       "      <th>4</th>\n",
       "      <th>5</th>\n",
       "    </tr>\n",
       "  </thead>\n",
       "  <tbody>\n",
       "    <tr>\n",
       "      <th>0</th>\n",
       "      <td>0.149034</td>\n",
       "      <td>0.604988</td>\n",
       "      <td>0.070560</td>\n",
       "      <td>0.298244</td>\n",
       "      <td>0.455134</td>\n",
       "      <td>0.896560</td>\n",
       "    </tr>\n",
       "    <tr>\n",
       "      <th>1</th>\n",
       "      <td>0.854942</td>\n",
       "      <td>0.291555</td>\n",
       "      <td>0.686519</td>\n",
       "      <td>0.856187</td>\n",
       "      <td>0.559002</td>\n",
       "      <td>0.737303</td>\n",
       "    </tr>\n",
       "    <tr>\n",
       "      <th>2</th>\n",
       "      <td>0.333051</td>\n",
       "      <td>0.779722</td>\n",
       "      <td>0.075977</td>\n",
       "      <td>0.891700</td>\n",
       "      <td>0.577997</td>\n",
       "      <td>0.544064</td>\n",
       "    </tr>\n",
       "    <tr>\n",
       "      <th>3</th>\n",
       "      <td>0.032463</td>\n",
       "      <td>0.374616</td>\n",
       "      <td>0.252517</td>\n",
       "      <td>0.291193</td>\n",
       "      <td>0.669397</td>\n",
       "      <td>0.687053</td>\n",
       "    </tr>\n",
       "    <tr>\n",
       "      <th>4</th>\n",
       "      <td>0.607324</td>\n",
       "      <td>0.337583</td>\n",
       "      <td>0.270796</td>\n",
       "      <td>0.799909</td>\n",
       "      <td>0.810546</td>\n",
       "      <td>0.530320</td>\n",
       "    </tr>\n",
       "    <tr>\n",
       "      <th>5</th>\n",
       "      <td>0.683711</td>\n",
       "      <td>0.048430</td>\n",
       "      <td>0.268431</td>\n",
       "      <td>0.286249</td>\n",
       "      <td>0.526409</td>\n",
       "      <td>0.981537</td>\n",
       "    </tr>\n",
       "    <tr>\n",
       "      <th>6</th>\n",
       "      <td>0.903745</td>\n",
       "      <td>0.823235</td>\n",
       "      <td>0.883192</td>\n",
       "      <td>0.379180</td>\n",
       "      <td>0.031492</td>\n",
       "      <td>0.094687</td>\n",
       "    </tr>\n",
       "    <tr>\n",
       "      <th>7</th>\n",
       "      <td>0.893327</td>\n",
       "      <td>0.700813</td>\n",
       "      <td>0.876160</td>\n",
       "      <td>0.313225</td>\n",
       "      <td>0.318481</td>\n",
       "      <td>0.726146</td>\n",
       "    </tr>\n",
       "    <tr>\n",
       "      <th>8</th>\n",
       "      <td>0.939292</td>\n",
       "      <td>0.308199</td>\n",
       "      <td>0.041690</td>\n",
       "      <td>0.667480</td>\n",
       "      <td>0.076510</td>\n",
       "      <td>0.504596</td>\n",
       "    </tr>\n",
       "    <tr>\n",
       "      <th>9</th>\n",
       "      <td>0.153619</td>\n",
       "      <td>0.025283</td>\n",
       "      <td>0.544786</td>\n",
       "      <td>0.339783</td>\n",
       "      <td>0.459579</td>\n",
       "      <td>0.020543</td>\n",
       "    </tr>\n",
       "  </tbody>\n",
       "</table>\n",
       "</div>"
      ],
      "text/plain": [
       "          0         1         2         3         4         5\n",
       "0  0.149034  0.604988  0.070560  0.298244  0.455134  0.896560\n",
       "1  0.854942  0.291555  0.686519  0.856187  0.559002  0.737303\n",
       "2  0.333051  0.779722  0.075977  0.891700  0.577997  0.544064\n",
       "3  0.032463  0.374616  0.252517  0.291193  0.669397  0.687053\n",
       "4  0.607324  0.337583  0.270796  0.799909  0.810546  0.530320\n",
       "5  0.683711  0.048430  0.268431  0.286249  0.526409  0.981537\n",
       "6  0.903745  0.823235  0.883192  0.379180  0.031492  0.094687\n",
       "7  0.893327  0.700813  0.876160  0.313225  0.318481  0.726146\n",
       "8  0.939292  0.308199  0.041690  0.667480  0.076510  0.504596\n",
       "9  0.153619  0.025283  0.544786  0.339783  0.459579  0.020543"
      ]
     },
     "execution_count": 3,
     "metadata": {},
     "output_type": "execute_result"
    }
   ],
   "source": [
    "df = pd.DataFrame(np.random.rand(60).reshape(10,6))\n",
    "df"
   ]
  },
  {
   "cell_type": "code",
   "execution_count": 12,
   "id": "015c1a46",
   "metadata": {},
   "outputs": [],
   "source": [
    "df.to_csv(\"myDataFrame.csv\", index=False)"
   ]
  },
  {
   "cell_type": "code",
   "execution_count": 15,
   "id": "c99925fa",
   "metadata": {},
   "outputs": [
    {
     "data": {
      "text/html": [
       "<div>\n",
       "<style scoped>\n",
       "    .dataframe tbody tr th:only-of-type {\n",
       "        vertical-align: middle;\n",
       "    }\n",
       "\n",
       "    .dataframe tbody tr th {\n",
       "        vertical-align: top;\n",
       "    }\n",
       "\n",
       "    .dataframe thead th {\n",
       "        text-align: right;\n",
       "    }\n",
       "</style>\n",
       "<table border=\"1\" class=\"dataframe\">\n",
       "  <thead>\n",
       "    <tr style=\"text-align: right;\">\n",
       "      <th></th>\n",
       "      <th>0</th>\n",
       "      <th>1</th>\n",
       "      <th>2</th>\n",
       "      <th>3</th>\n",
       "      <th>4</th>\n",
       "      <th>5</th>\n",
       "    </tr>\n",
       "  </thead>\n",
       "  <tbody>\n",
       "    <tr>\n",
       "      <th>0</th>\n",
       "      <td>0.149034</td>\n",
       "      <td>0.604988</td>\n",
       "      <td>0.070560</td>\n",
       "      <td>0.298244</td>\n",
       "      <td>0.455134</td>\n",
       "      <td>0.896560</td>\n",
       "    </tr>\n",
       "    <tr>\n",
       "      <th>1</th>\n",
       "      <td>0.854942</td>\n",
       "      <td>0.291555</td>\n",
       "      <td>0.686519</td>\n",
       "      <td>0.856187</td>\n",
       "      <td>0.559002</td>\n",
       "      <td>0.737303</td>\n",
       "    </tr>\n",
       "    <tr>\n",
       "      <th>2</th>\n",
       "      <td>0.333051</td>\n",
       "      <td>0.779722</td>\n",
       "      <td>0.075977</td>\n",
       "      <td>0.891700</td>\n",
       "      <td>0.577997</td>\n",
       "      <td>0.544064</td>\n",
       "    </tr>\n",
       "    <tr>\n",
       "      <th>3</th>\n",
       "      <td>0.032463</td>\n",
       "      <td>0.374616</td>\n",
       "      <td>0.252517</td>\n",
       "      <td>0.291193</td>\n",
       "      <td>0.669397</td>\n",
       "      <td>0.687053</td>\n",
       "    </tr>\n",
       "    <tr>\n",
       "      <th>4</th>\n",
       "      <td>0.607324</td>\n",
       "      <td>0.337583</td>\n",
       "      <td>0.270796</td>\n",
       "      <td>0.799909</td>\n",
       "      <td>0.810546</td>\n",
       "      <td>0.530320</td>\n",
       "    </tr>\n",
       "    <tr>\n",
       "      <th>5</th>\n",
       "      <td>0.683711</td>\n",
       "      <td>0.048430</td>\n",
       "      <td>0.268431</td>\n",
       "      <td>0.286249</td>\n",
       "      <td>0.526409</td>\n",
       "      <td>0.981537</td>\n",
       "    </tr>\n",
       "    <tr>\n",
       "      <th>6</th>\n",
       "      <td>0.903745</td>\n",
       "      <td>0.823235</td>\n",
       "      <td>0.883192</td>\n",
       "      <td>0.379180</td>\n",
       "      <td>0.031492</td>\n",
       "      <td>0.094687</td>\n",
       "    </tr>\n",
       "    <tr>\n",
       "      <th>7</th>\n",
       "      <td>0.893327</td>\n",
       "      <td>0.700813</td>\n",
       "      <td>0.876160</td>\n",
       "      <td>0.313225</td>\n",
       "      <td>0.318481</td>\n",
       "      <td>0.726146</td>\n",
       "    </tr>\n",
       "    <tr>\n",
       "      <th>8</th>\n",
       "      <td>0.939292</td>\n",
       "      <td>0.308199</td>\n",
       "      <td>0.041690</td>\n",
       "      <td>0.667480</td>\n",
       "      <td>0.076510</td>\n",
       "      <td>0.504596</td>\n",
       "    </tr>\n",
       "    <tr>\n",
       "      <th>9</th>\n",
       "      <td>0.153619</td>\n",
       "      <td>0.025283</td>\n",
       "      <td>0.544786</td>\n",
       "      <td>0.339783</td>\n",
       "      <td>0.459579</td>\n",
       "      <td>0.020543</td>\n",
       "    </tr>\n",
       "  </tbody>\n",
       "</table>\n",
       "</div>"
      ],
      "text/plain": [
       "          0         1         2         3         4         5\n",
       "0  0.149034  0.604988  0.070560  0.298244  0.455134  0.896560\n",
       "1  0.854942  0.291555  0.686519  0.856187  0.559002  0.737303\n",
       "2  0.333051  0.779722  0.075977  0.891700  0.577997  0.544064\n",
       "3  0.032463  0.374616  0.252517  0.291193  0.669397  0.687053\n",
       "4  0.607324  0.337583  0.270796  0.799909  0.810546  0.530320\n",
       "5  0.683711  0.048430  0.268431  0.286249  0.526409  0.981537\n",
       "6  0.903745  0.823235  0.883192  0.379180  0.031492  0.094687\n",
       "7  0.893327  0.700813  0.876160  0.313225  0.318481  0.726146\n",
       "8  0.939292  0.308199  0.041690  0.667480  0.076510  0.504596\n",
       "9  0.153619  0.025283  0.544786  0.339783  0.459579  0.020543"
      ]
     },
     "execution_count": 15,
     "metadata": {},
     "output_type": "execute_result"
    }
   ],
   "source": [
    "df = pd.read_csv(\"myDataFrame.csv\")\n",
    "df"
   ]
  },
  {
   "cell_type": "code",
   "execution_count": 18,
   "id": "66478357",
   "metadata": {},
   "outputs": [
    {
     "data": {
      "text/html": [
       "<div><strong>Dask DataFrame Structure:</strong></div>\n",
       "<div>\n",
       "<style scoped>\n",
       "    .dataframe tbody tr th:only-of-type {\n",
       "        vertical-align: middle;\n",
       "    }\n",
       "\n",
       "    .dataframe tbody tr th {\n",
       "        vertical-align: top;\n",
       "    }\n",
       "\n",
       "    .dataframe thead th {\n",
       "        text-align: right;\n",
       "    }\n",
       "</style>\n",
       "<table border=\"1\" class=\"dataframe\">\n",
       "  <thead>\n",
       "    <tr style=\"text-align: right;\">\n",
       "      <th></th>\n",
       "      <th>0</th>\n",
       "      <th>1</th>\n",
       "      <th>2</th>\n",
       "      <th>3</th>\n",
       "      <th>4</th>\n",
       "      <th>5</th>\n",
       "    </tr>\n",
       "    <tr>\n",
       "      <th>npartitions=1</th>\n",
       "      <th></th>\n",
       "      <th></th>\n",
       "      <th></th>\n",
       "      <th></th>\n",
       "      <th></th>\n",
       "      <th></th>\n",
       "    </tr>\n",
       "  </thead>\n",
       "  <tbody>\n",
       "    <tr>\n",
       "      <th></th>\n",
       "      <td>float64</td>\n",
       "      <td>float64</td>\n",
       "      <td>float64</td>\n",
       "      <td>float64</td>\n",
       "      <td>float64</td>\n",
       "      <td>float64</td>\n",
       "    </tr>\n",
       "    <tr>\n",
       "      <th></th>\n",
       "      <td>...</td>\n",
       "      <td>...</td>\n",
       "      <td>...</td>\n",
       "      <td>...</td>\n",
       "      <td>...</td>\n",
       "      <td>...</td>\n",
       "    </tr>\n",
       "  </tbody>\n",
       "</table>\n",
       "</div>\n",
       "<div>Dask Name: read-csv, 1 tasks</div>"
      ],
      "text/plain": [
       "Dask DataFrame Structure:\n",
       "                     0        1        2        3        4        5\n",
       "npartitions=1                                                      \n",
       "               float64  float64  float64  float64  float64  float64\n",
       "                   ...      ...      ...      ...      ...      ...\n",
       "Dask Name: read-csv, 1 tasks"
      ]
     },
     "execution_count": 18,
     "metadata": {},
     "output_type": "execute_result"
    }
   ],
   "source": [
    "ddf = dd.read_csv(\"myDataFrame.csv\")\n",
    "ddf"
   ]
  },
  {
   "cell_type": "code",
   "execution_count": 19,
   "id": "0719a379",
   "metadata": {},
   "outputs": [
    {
     "data": {
      "text/html": [
       "<div>\n",
       "<style scoped>\n",
       "    .dataframe tbody tr th:only-of-type {\n",
       "        vertical-align: middle;\n",
       "    }\n",
       "\n",
       "    .dataframe tbody tr th {\n",
       "        vertical-align: top;\n",
       "    }\n",
       "\n",
       "    .dataframe thead th {\n",
       "        text-align: right;\n",
       "    }\n",
       "</style>\n",
       "<table border=\"1\" class=\"dataframe\">\n",
       "  <thead>\n",
       "    <tr style=\"text-align: right;\">\n",
       "      <th></th>\n",
       "      <th>0</th>\n",
       "      <th>1</th>\n",
       "      <th>2</th>\n",
       "      <th>3</th>\n",
       "      <th>4</th>\n",
       "      <th>5</th>\n",
       "    </tr>\n",
       "  </thead>\n",
       "  <tbody>\n",
       "    <tr>\n",
       "      <th>0</th>\n",
       "      <td>0.149034</td>\n",
       "      <td>0.604988</td>\n",
       "      <td>0.070560</td>\n",
       "      <td>0.298244</td>\n",
       "      <td>0.455134</td>\n",
       "      <td>0.896560</td>\n",
       "    </tr>\n",
       "    <tr>\n",
       "      <th>1</th>\n",
       "      <td>0.854942</td>\n",
       "      <td>0.291555</td>\n",
       "      <td>0.686519</td>\n",
       "      <td>0.856187</td>\n",
       "      <td>0.559002</td>\n",
       "      <td>0.737303</td>\n",
       "    </tr>\n",
       "    <tr>\n",
       "      <th>2</th>\n",
       "      <td>0.333051</td>\n",
       "      <td>0.779722</td>\n",
       "      <td>0.075977</td>\n",
       "      <td>0.891700</td>\n",
       "      <td>0.577997</td>\n",
       "      <td>0.544064</td>\n",
       "    </tr>\n",
       "    <tr>\n",
       "      <th>3</th>\n",
       "      <td>0.032463</td>\n",
       "      <td>0.374616</td>\n",
       "      <td>0.252517</td>\n",
       "      <td>0.291193</td>\n",
       "      <td>0.669397</td>\n",
       "      <td>0.687053</td>\n",
       "    </tr>\n",
       "    <tr>\n",
       "      <th>4</th>\n",
       "      <td>0.607324</td>\n",
       "      <td>0.337583</td>\n",
       "      <td>0.270796</td>\n",
       "      <td>0.799909</td>\n",
       "      <td>0.810546</td>\n",
       "      <td>0.530320</td>\n",
       "    </tr>\n",
       "    <tr>\n",
       "      <th>5</th>\n",
       "      <td>0.683711</td>\n",
       "      <td>0.048430</td>\n",
       "      <td>0.268431</td>\n",
       "      <td>0.286249</td>\n",
       "      <td>0.526409</td>\n",
       "      <td>0.981537</td>\n",
       "    </tr>\n",
       "    <tr>\n",
       "      <th>6</th>\n",
       "      <td>0.903745</td>\n",
       "      <td>0.823235</td>\n",
       "      <td>0.883192</td>\n",
       "      <td>0.379180</td>\n",
       "      <td>0.031492</td>\n",
       "      <td>0.094687</td>\n",
       "    </tr>\n",
       "    <tr>\n",
       "      <th>7</th>\n",
       "      <td>0.893327</td>\n",
       "      <td>0.700813</td>\n",
       "      <td>0.876160</td>\n",
       "      <td>0.313225</td>\n",
       "      <td>0.318481</td>\n",
       "      <td>0.726146</td>\n",
       "    </tr>\n",
       "    <tr>\n",
       "      <th>8</th>\n",
       "      <td>0.939292</td>\n",
       "      <td>0.308199</td>\n",
       "      <td>0.041690</td>\n",
       "      <td>0.667480</td>\n",
       "      <td>0.076510</td>\n",
       "      <td>0.504596</td>\n",
       "    </tr>\n",
       "    <tr>\n",
       "      <th>9</th>\n",
       "      <td>0.153619</td>\n",
       "      <td>0.025283</td>\n",
       "      <td>0.544786</td>\n",
       "      <td>0.339783</td>\n",
       "      <td>0.459579</td>\n",
       "      <td>0.020543</td>\n",
       "    </tr>\n",
       "  </tbody>\n",
       "</table>\n",
       "</div>"
      ],
      "text/plain": [
       "          0         1         2         3         4         5\n",
       "0  0.149034  0.604988  0.070560  0.298244  0.455134  0.896560\n",
       "1  0.854942  0.291555  0.686519  0.856187  0.559002  0.737303\n",
       "2  0.333051  0.779722  0.075977  0.891700  0.577997  0.544064\n",
       "3  0.032463  0.374616  0.252517  0.291193  0.669397  0.687053\n",
       "4  0.607324  0.337583  0.270796  0.799909  0.810546  0.530320\n",
       "5  0.683711  0.048430  0.268431  0.286249  0.526409  0.981537\n",
       "6  0.903745  0.823235  0.883192  0.379180  0.031492  0.094687\n",
       "7  0.893327  0.700813  0.876160  0.313225  0.318481  0.726146\n",
       "8  0.939292  0.308199  0.041690  0.667480  0.076510  0.504596\n",
       "9  0.153619  0.025283  0.544786  0.339783  0.459579  0.020543"
      ]
     },
     "execution_count": 19,
     "metadata": {},
     "output_type": "execute_result"
    }
   ],
   "source": [
    "ddf.compute()"
   ]
  },
  {
   "cell_type": "code",
   "execution_count": 5,
   "id": "32e5abff",
   "metadata": {},
   "outputs": [
    {
     "data": {
      "text/html": [
       "<div><strong>Dask DataFrame Structure:</strong></div>\n",
       "<div>\n",
       "<style scoped>\n",
       "    .dataframe tbody tr th:only-of-type {\n",
       "        vertical-align: middle;\n",
       "    }\n",
       "\n",
       "    .dataframe tbody tr th {\n",
       "        vertical-align: top;\n",
       "    }\n",
       "\n",
       "    .dataframe thead th {\n",
       "        text-align: right;\n",
       "    }\n",
       "</style>\n",
       "<table border=\"1\" class=\"dataframe\">\n",
       "  <thead>\n",
       "    <tr style=\"text-align: right;\">\n",
       "      <th></th>\n",
       "      <th>0</th>\n",
       "      <th>1</th>\n",
       "      <th>2</th>\n",
       "      <th>3</th>\n",
       "      <th>4</th>\n",
       "      <th>5</th>\n",
       "    </tr>\n",
       "    <tr>\n",
       "      <th>npartitions=3</th>\n",
       "      <th></th>\n",
       "      <th></th>\n",
       "      <th></th>\n",
       "      <th></th>\n",
       "      <th></th>\n",
       "      <th></th>\n",
       "    </tr>\n",
       "  </thead>\n",
       "  <tbody>\n",
       "    <tr>\n",
       "      <th>0</th>\n",
       "      <td>float64</td>\n",
       "      <td>float64</td>\n",
       "      <td>float64</td>\n",
       "      <td>float64</td>\n",
       "      <td>float64</td>\n",
       "      <td>float64</td>\n",
       "    </tr>\n",
       "    <tr>\n",
       "      <th>3</th>\n",
       "      <td>...</td>\n",
       "      <td>...</td>\n",
       "      <td>...</td>\n",
       "      <td>...</td>\n",
       "      <td>...</td>\n",
       "      <td>...</td>\n",
       "    </tr>\n",
       "    <tr>\n",
       "      <th>6</th>\n",
       "      <td>...</td>\n",
       "      <td>...</td>\n",
       "      <td>...</td>\n",
       "      <td>...</td>\n",
       "      <td>...</td>\n",
       "      <td>...</td>\n",
       "    </tr>\n",
       "    <tr>\n",
       "      <th>9</th>\n",
       "      <td>...</td>\n",
       "      <td>...</td>\n",
       "      <td>...</td>\n",
       "      <td>...</td>\n",
       "      <td>...</td>\n",
       "      <td>...</td>\n",
       "    </tr>\n",
       "  </tbody>\n",
       "</table>\n",
       "</div>\n",
       "<div>Dask Name: from_pandas, 3 tasks</div>"
      ],
      "text/plain": [
       "Dask DataFrame Structure:\n",
       "                     0        1        2        3        4        5\n",
       "npartitions=3                                                      \n",
       "0              float64  float64  float64  float64  float64  float64\n",
       "3                  ...      ...      ...      ...      ...      ...\n",
       "6                  ...      ...      ...      ...      ...      ...\n",
       "9                  ...      ...      ...      ...      ...      ...\n",
       "Dask Name: from_pandas, 3 tasks"
      ]
     },
     "execution_count": 5,
     "metadata": {},
     "output_type": "execute_result"
    }
   ],
   "source": [
    "ddf = dd.from_pandas(df, npartitions=4)\n",
    "ddf"
   ]
  },
  {
   "cell_type": "code",
   "execution_count": 6,
   "id": "34d519eb",
   "metadata": {},
   "outputs": [
    {
     "data": {
      "text/plain": [
       "(0, 3, 6, 9)"
      ]
     },
     "execution_count": 6,
     "metadata": {},
     "output_type": "execute_result"
    }
   ],
   "source": [
    "ddf.divisions"
   ]
  },
  {
   "cell_type": "code",
   "execution_count": 20,
   "id": "5fbee77b",
   "metadata": {},
   "outputs": [
    {
     "data": {
      "text/html": [
       "<div>\n",
       "<style scoped>\n",
       "    .dataframe tbody tr th:only-of-type {\n",
       "        vertical-align: middle;\n",
       "    }\n",
       "\n",
       "    .dataframe tbody tr th {\n",
       "        vertical-align: top;\n",
       "    }\n",
       "\n",
       "    .dataframe thead th {\n",
       "        text-align: right;\n",
       "    }\n",
       "</style>\n",
       "<table border=\"1\" class=\"dataframe\">\n",
       "  <thead>\n",
       "    <tr style=\"text-align: right;\">\n",
       "      <th></th>\n",
       "      <th>0</th>\n",
       "      <th>1</th>\n",
       "      <th>2</th>\n",
       "      <th>3</th>\n",
       "      <th>4</th>\n",
       "      <th>5</th>\n",
       "    </tr>\n",
       "  </thead>\n",
       "  <tbody>\n",
       "    <tr>\n",
       "      <th>0</th>\n",
       "      <td>0.149034</td>\n",
       "      <td>0.604988</td>\n",
       "      <td>0.070560</td>\n",
       "      <td>0.298244</td>\n",
       "      <td>0.455134</td>\n",
       "      <td>0.896560</td>\n",
       "    </tr>\n",
       "    <tr>\n",
       "      <th>1</th>\n",
       "      <td>0.854942</td>\n",
       "      <td>0.291555</td>\n",
       "      <td>0.686519</td>\n",
       "      <td>0.856187</td>\n",
       "      <td>0.559002</td>\n",
       "      <td>0.737303</td>\n",
       "    </tr>\n",
       "    <tr>\n",
       "      <th>2</th>\n",
       "      <td>0.333051</td>\n",
       "      <td>0.779722</td>\n",
       "      <td>0.075977</td>\n",
       "      <td>0.891700</td>\n",
       "      <td>0.577997</td>\n",
       "      <td>0.544064</td>\n",
       "    </tr>\n",
       "    <tr>\n",
       "      <th>3</th>\n",
       "      <td>0.032463</td>\n",
       "      <td>0.374616</td>\n",
       "      <td>0.252517</td>\n",
       "      <td>0.291193</td>\n",
       "      <td>0.669397</td>\n",
       "      <td>0.687053</td>\n",
       "    </tr>\n",
       "    <tr>\n",
       "      <th>4</th>\n",
       "      <td>0.607324</td>\n",
       "      <td>0.337583</td>\n",
       "      <td>0.270796</td>\n",
       "      <td>0.799909</td>\n",
       "      <td>0.810546</td>\n",
       "      <td>0.530320</td>\n",
       "    </tr>\n",
       "    <tr>\n",
       "      <th>5</th>\n",
       "      <td>0.683711</td>\n",
       "      <td>0.048430</td>\n",
       "      <td>0.268431</td>\n",
       "      <td>0.286249</td>\n",
       "      <td>0.526409</td>\n",
       "      <td>0.981537</td>\n",
       "    </tr>\n",
       "    <tr>\n",
       "      <th>6</th>\n",
       "      <td>0.903745</td>\n",
       "      <td>0.823235</td>\n",
       "      <td>0.883192</td>\n",
       "      <td>0.379180</td>\n",
       "      <td>0.031492</td>\n",
       "      <td>0.094687</td>\n",
       "    </tr>\n",
       "    <tr>\n",
       "      <th>7</th>\n",
       "      <td>0.893327</td>\n",
       "      <td>0.700813</td>\n",
       "      <td>0.876160</td>\n",
       "      <td>0.313225</td>\n",
       "      <td>0.318481</td>\n",
       "      <td>0.726146</td>\n",
       "    </tr>\n",
       "    <tr>\n",
       "      <th>8</th>\n",
       "      <td>0.939292</td>\n",
       "      <td>0.308199</td>\n",
       "      <td>0.041690</td>\n",
       "      <td>0.667480</td>\n",
       "      <td>0.076510</td>\n",
       "      <td>0.504596</td>\n",
       "    </tr>\n",
       "    <tr>\n",
       "      <th>9</th>\n",
       "      <td>0.153619</td>\n",
       "      <td>0.025283</td>\n",
       "      <td>0.544786</td>\n",
       "      <td>0.339783</td>\n",
       "      <td>0.459579</td>\n",
       "      <td>0.020543</td>\n",
       "    </tr>\n",
       "  </tbody>\n",
       "</table>\n",
       "</div>"
      ],
      "text/plain": [
       "          0         1         2         3         4         5\n",
       "0  0.149034  0.604988  0.070560  0.298244  0.455134  0.896560\n",
       "1  0.854942  0.291555  0.686519  0.856187  0.559002  0.737303\n",
       "2  0.333051  0.779722  0.075977  0.891700  0.577997  0.544064\n",
       "3  0.032463  0.374616  0.252517  0.291193  0.669397  0.687053\n",
       "4  0.607324  0.337583  0.270796  0.799909  0.810546  0.530320\n",
       "5  0.683711  0.048430  0.268431  0.286249  0.526409  0.981537\n",
       "6  0.903745  0.823235  0.883192  0.379180  0.031492  0.094687\n",
       "7  0.893327  0.700813  0.876160  0.313225  0.318481  0.726146\n",
       "8  0.939292  0.308199  0.041690  0.667480  0.076510  0.504596\n",
       "9  0.153619  0.025283  0.544786  0.339783  0.459579  0.020543"
      ]
     },
     "execution_count": 20,
     "metadata": {},
     "output_type": "execute_result"
    }
   ],
   "source": [
    "ddf.compute()"
   ]
  },
  {
   "cell_type": "code",
   "execution_count": 44,
   "id": "cec756ac",
   "metadata": {},
   "outputs": [
    {
     "data": {
      "text/plain": [
       "array([[2, 7, 3, 1, 3, 8, 1, 9, 0, 0],\n",
       "       [0, 8, 0, 6, 3, 7, 7, 3, 4, 5],\n",
       "       [0, 1, 2, 8, 6, 4, 3, 8, 5, 6],\n",
       "       [1, 8, 4, 7, 8, 2, 4, 5, 1, 8],\n",
       "       [4, 6, 4, 5, 5, 7, 4, 3, 8, 2],\n",
       "       [8, 5, 3, 3, 9, 4, 5, 4, 2, 5],\n",
       "       [9, 3, 1, 4, 0, 9, 5, 6, 7, 3],\n",
       "       [5, 7, 1, 4, 8, 2, 2, 9, 3, 2],\n",
       "       [1, 7, 9, 4, 7, 8, 9, 7, 2, 0],\n",
       "       [6, 4, 3, 0, 6, 6, 6, 6, 4, 3]])"
      ]
     },
     "execution_count": 44,
     "metadata": {},
     "output_type": "execute_result"
    }
   ],
   "source": [
    "narr = np.random.randint(0,10,100).reshape(10,10)\n",
    "narr"
   ]
  },
  {
   "cell_type": "code",
   "execution_count": 45,
   "id": "4d89371e",
   "metadata": {},
   "outputs": [
    {
     "data": {
      "text/html": [
       "<table>\n",
       "    <tr>\n",
       "        <td>\n",
       "            <table>\n",
       "                <thead>\n",
       "                    <tr>\n",
       "                        <td> </td>\n",
       "                        <th> Array </th>\n",
       "                        <th> Chunk </th>\n",
       "                    </tr>\n",
       "                </thead>\n",
       "                <tbody>\n",
       "                    \n",
       "                    <tr>\n",
       "                        <th> Bytes </th>\n",
       "                        <td> 400 B </td>\n",
       "                        <td> 100 B </td>\n",
       "                    </tr>\n",
       "                    \n",
       "                    <tr>\n",
       "                        <th> Shape </th>\n",
       "                        <td> (10, 10) </td>\n",
       "                        <td> (5, 5) </td>\n",
       "                    </tr>\n",
       "                    <tr>\n",
       "                        <th> Count </th>\n",
       "                        <td> 4 Tasks </td>\n",
       "                        <td> 4 Chunks </td>\n",
       "                    </tr>\n",
       "                    <tr>\n",
       "                    <th> Type </th>\n",
       "                    <td> int32 </td>\n",
       "                    <td> numpy.ndarray </td>\n",
       "                    </tr>\n",
       "                </tbody>\n",
       "            </table>\n",
       "        </td>\n",
       "        <td>\n",
       "        <svg width=\"170\" height=\"170\" style=\"stroke:rgb(0,0,0);stroke-width:1\" >\n",
       "\n",
       "  <!-- Horizontal lines -->\n",
       "  <line x1=\"0\" y1=\"0\" x2=\"120\" y2=\"0\" style=\"stroke-width:2\" />\n",
       "  <line x1=\"0\" y1=\"60\" x2=\"120\" y2=\"60\" />\n",
       "  <line x1=\"0\" y1=\"120\" x2=\"120\" y2=\"120\" style=\"stroke-width:2\" />\n",
       "\n",
       "  <!-- Vertical lines -->\n",
       "  <line x1=\"0\" y1=\"0\" x2=\"0\" y2=\"120\" style=\"stroke-width:2\" />\n",
       "  <line x1=\"60\" y1=\"0\" x2=\"60\" y2=\"120\" />\n",
       "  <line x1=\"120\" y1=\"0\" x2=\"120\" y2=\"120\" style=\"stroke-width:2\" />\n",
       "\n",
       "  <!-- Colored Rectangle -->\n",
       "  <polygon points=\"0.0,0.0 120.0,0.0 120.0,120.0 0.0,120.0\" style=\"fill:#ECB172A0;stroke-width:0\"/>\n",
       "\n",
       "  <!-- Text -->\n",
       "  <text x=\"60.000000\" y=\"140.000000\" font-size=\"1.0rem\" font-weight=\"100\" text-anchor=\"middle\" >10</text>\n",
       "  <text x=\"140.000000\" y=\"60.000000\" font-size=\"1.0rem\" font-weight=\"100\" text-anchor=\"middle\" transform=\"rotate(0,140.000000,60.000000)\">10</text>\n",
       "</svg>\n",
       "        </td>\n",
       "    </tr>\n",
       "</table>"
      ],
      "text/plain": [
       "dask.array<array, shape=(10, 10), dtype=int32, chunksize=(5, 5), chunktype=numpy.ndarray>"
      ]
     },
     "execution_count": 45,
     "metadata": {},
     "output_type": "execute_result"
    }
   ],
   "source": [
    "darr = da.from_array(narr, chunks=(5, 5))\n",
    "darr"
   ]
  },
  {
   "cell_type": "code",
   "execution_count": 51,
   "id": "63552122",
   "metadata": {},
   "outputs": [
    {
     "data": {
      "text/plain": [
       "array([[2, 7, 3, 1, 3, 8, 1, 9, 0, 0],\n",
       "       [0, 8, 0, 6, 3, 7, 7, 3, 4, 5],\n",
       "       [0, 1, 2, 8, 6, 4, 3, 8, 5, 6],\n",
       "       [1, 8, 4, 7, 8, 2, 4, 5, 1, 8],\n",
       "       [4, 6, 4, 5, 5, 7, 4, 3, 8, 2],\n",
       "       [8, 5, 3, 3, 9, 4, 5, 4, 2, 5],\n",
       "       [9, 3, 1, 4, 0, 9, 5, 6, 7, 3],\n",
       "       [5, 7, 1, 4, 8, 2, 2, 9, 3, 2],\n",
       "       [1, 7, 9, 4, 7, 8, 9, 7, 2, 0],\n",
       "       [6, 4, 3, 0, 6, 6, 6, 6, 4, 3]])"
      ]
     },
     "execution_count": 51,
     "metadata": {},
     "output_type": "execute_result"
    }
   ],
   "source": [
    "darr.compute()"
   ]
  },
  {
   "cell_type": "markdown",
   "id": "b17e774b",
   "metadata": {},
   "source": [
    "# Methods\n"
   ]
  },
  {
   "cell_type": "code",
   "execution_count": 65,
   "id": "1850e5db",
   "metadata": {},
   "outputs": [
    {
     "data": {
      "text/plain": [
       "0.42944239885994107"
      ]
     },
     "execution_count": 65,
     "metadata": {},
     "output_type": "execute_result"
    }
   ],
   "source": [
    "df['1'].mean()"
   ]
  },
  {
   "cell_type": "code",
   "execution_count": 66,
   "id": "a3bc3edf",
   "metadata": {},
   "outputs": [],
   "source": [
    "m = ddf['1'].mean()"
   ]
  },
  {
   "cell_type": "code",
   "execution_count": 67,
   "id": "b76b9df7",
   "metadata": {},
   "outputs": [
    {
     "data": {
      "text/plain": [
       "0.42944239885994107"
      ]
     },
     "execution_count": 67,
     "metadata": {},
     "output_type": "execute_result"
    }
   ],
   "source": [
    "m.compute()"
   ]
  },
  {
   "cell_type": "code",
   "execution_count": 71,
   "id": "8a9cf19e",
   "metadata": {},
   "outputs": [],
   "source": [
    "mm = np.mean(darr)"
   ]
  },
  {
   "cell_type": "code",
   "execution_count": 72,
   "id": "a8f05c79",
   "metadata": {},
   "outputs": [
    {
     "data": {
      "text/plain": [
       "4.52"
      ]
     },
     "execution_count": 72,
     "metadata": {},
     "output_type": "execute_result"
    }
   ],
   "source": [
    "mm.compute()"
   ]
  },
  {
   "cell_type": "code",
   "execution_count": 75,
   "id": "50120b09",
   "metadata": {},
   "outputs": [
    {
     "data": {
      "text/html": [
       "<div>\n",
       "    <div>\n",
       "        <div style=\"width: 52px; height: 52px; position: absolute;\">\n",
       "            <svg width=\"76\" height=\"71\" viewBox=\"0 0 76 71\" fill=\"none\" xmlns=\"http://www.w3.org/2000/svg\">\n",
       "                <circle cx=\"61.5\" cy=\"36.5\" r=\"13.5\" style=\"stroke: var(--jp-ui-font-color2, #1D1D1D); fill: var(--jp-layout-color1, #F2F2F2);\" stroke-width=\"2\"/>\n",
       "                <circle cx=\"14.5\" cy=\"14.5\" r=\"13.5\" style=\"stroke: var(--jp-ui-font-color2, #1D1D1D); fill: var(--jp-layout-color1, #F2F2F2);\" stroke-width=\"2\"/>\n",
       "                <circle cx=\"14.5\" cy=\"56.5\" r=\"13.5\" style=\"stroke: var(--jp-ui-font-color2, #1D1D1D); fill: var(--jp-layout-color1, #F2F2F2);\" stroke-width=\"2\"/>\n",
       "                <path d=\"M28 16L30.5 16C33.2614 16 35.5 18.2386 35.5 21L35.5 32.0001C35.5 34.7615 37.7386 37.0001 40.5 37.0001L43 37.0001\" style=\"stroke: var(--jp-ui-font-color2, #1D1D1D);\" stroke-width=\"1.5\"/>\n",
       "                <path d=\"M40.5 37L40.5 37.75L40.5 37.75L40.5 37ZM35.5 42L36.25 42L35.5 42ZM35.5 52L34.75 52L35.5 52ZM30.5 57L30.5 57.75L30.5 57ZM41.5001 36.25L40.5 36.25L40.5 37.75L41.5001 37.75L41.5001 36.25ZM34.75 42L34.75 52L36.25 52L36.25 42L34.75 42ZM30.5 56.25L28.0001 56.25L28.0001 57.75L30.5 57.75L30.5 56.25ZM34.75 52C34.75 54.3472 32.8472 56.25 30.5 56.25L30.5 57.75C33.6756 57.75 36.25 55.1756 36.25 52L34.75 52ZM40.5 36.25C37.3244 36.25 34.75 38.8243 34.75 42L36.25 42C36.25 39.6528 38.1528 37.75 40.5 37.75L40.5 36.25Z\" style=\"fill: var(--jp-ui-font-color2, #1D1D1D);\"/>\n",
       "                <circle cx=\"28\" cy=\"16\" r=\"2.25\" fill=\"#E5E5E5\" style=\"stroke: var(--jp-ui-font-color2, #1D1D1D);\" stroke-width=\"1.5\"/>\n",
       "                <circle cx=\"28\" cy=\"57\" r=\"2.25\" fill=\"#E5E5E5\" style=\"stroke: var(--jp-ui-font-color2, #1D1D1D);\" stroke-width=\"1.5\"/>\n",
       "                <path d=\"M45.25 36.567C45.5833 36.7594 45.5833 37.2406 45.25 37.433L42.25 39.1651C41.9167 39.3575 41.5 39.117 41.5 38.7321V35.2679C41.5 34.883 41.9167 34.6425 42.25 34.8349L45.25 36.567Z\" style=\"fill: var(--jp-ui-font-color2, #1D1D1D);\"/>\n",
       "            </svg>\n",
       "        </div>\n",
       "        <div style=\"margin-left: 64px;\">\n",
       "            <h3 style=\"margin-bottom: 0px;\">HighLevelGraph</h3>\n",
       "            <p style=\"color: var(--jp-ui-font-color2, #5D5851); margin-bottom:0px;\">\n",
       "                HighLevelGraph with 3 layers and 9 keys from all layers.\n",
       "            </p>\n",
       "            \n",
       "            <div style=\"\">\n",
       "    <svg width=\"24\" height=\"24\" viewBox=\"0 0 32 32\" fill=\"none\" xmlns=\"http://www.w3.org/2000/svg\" style=\"position: absolute;\">\n",
       "        \n",
       "        <circle cx=\"16\" cy=\"16\" r=\"14\" fill=\"#8F8F8F\" style=\"stroke: var(--jp-ui-font-color2, #1D1D1D);\" stroke-width=\"2\"/>\n",
       "        \n",
       "    </svg>\n",
       "\n",
       "    <details style=\"margin-left: 32px;\">\n",
       "        <summary style=\"margin-bottom: 10px; margin-top: 10px;\">\n",
       "            <h4 style=\"display: inline;\">Layer1: array</h4>\n",
       "        </summary>\n",
       "        <p style=\"color: var(--jp-ui-font-color2, #5D5851); margin: -0.25em 0px 0px 0px;\">\n",
       "            array-5d717b017ea5b1f1658a0cb2885909ff\n",
       "        </p>\n",
       "\n",
       "        <table>\n",
       "        <tr>\n",
       "            <td>\n",
       "                <table>\n",
       "                \n",
       "                    <tr>\n",
       "                        <th style=\"text-align: left; width: 150px;\">layer_type</th>\n",
       "                        <td style=\"text-align: left;\">MaterializedLayer</td>\n",
       "                    </tr>\n",
       "                \n",
       "                    <tr>\n",
       "                        <th style=\"text-align: left; width: 150px;\">is_materialized</th>\n",
       "                        <td style=\"text-align: left;\">True</td>\n",
       "                    </tr>\n",
       "                \n",
       "                    <tr>\n",
       "                        <th style=\"text-align: left; width: 150px;\">number of outputs</th>\n",
       "                        <td style=\"text-align: left;\">4</td>\n",
       "                    </tr>\n",
       "                \n",
       "                    <tr>\n",
       "                        <th style=\"text-align: left; width: 150px;\">shape</th>\n",
       "                        <td style=\"text-align: left;\">(10, 10)</td>\n",
       "                    </tr>\n",
       "                \n",
       "                    <tr>\n",
       "                        <th style=\"text-align: left; width: 150px;\">dtype</th>\n",
       "                        <td style=\"text-align: left;\">int32</td>\n",
       "                    </tr>\n",
       "                \n",
       "                    <tr>\n",
       "                        <th style=\"text-align: left; width: 150px;\">chunksize</th>\n",
       "                        <td style=\"text-align: left;\">(5, 5)</td>\n",
       "                    </tr>\n",
       "                \n",
       "                    <tr>\n",
       "                        <th style=\"text-align: left; width: 150px;\">type</th>\n",
       "                        <td style=\"text-align: left;\">dask.array.core.Array</td>\n",
       "                    </tr>\n",
       "                \n",
       "                    <tr>\n",
       "                        <th style=\"text-align: left; width: 150px;\">chunk_type</th>\n",
       "                        <td style=\"text-align: left;\">numpy.ndarray</td>\n",
       "                    </tr>\n",
       "                \n",
       "                </table>\n",
       "            </td>\n",
       "            <td>\n",
       "                <svg width=\"250\" height=\"250\" style=\"stroke:rgb(0,0,0);stroke-width:1\" >\n",
       "\n",
       "  <!-- Horizontal lines -->\n",
       "  <line x1=\"0\" y1=\"0\" x2=\"200\" y2=\"0\" style=\"stroke-width:2\" />\n",
       "  <line x1=\"0\" y1=\"100\" x2=\"200\" y2=\"100\" />\n",
       "  <line x1=\"0\" y1=\"200\" x2=\"200\" y2=\"200\" style=\"stroke-width:2\" />\n",
       "\n",
       "  <!-- Vertical lines -->\n",
       "  <line x1=\"0\" y1=\"0\" x2=\"0\" y2=\"200\" style=\"stroke-width:2\" />\n",
       "  <line x1=\"100\" y1=\"0\" x2=\"100\" y2=\"200\" />\n",
       "  <line x1=\"200\" y1=\"0\" x2=\"200\" y2=\"200\" style=\"stroke-width:2\" />\n",
       "\n",
       "  <!-- Colored Rectangle -->\n",
       "  <polygon points=\"0.0,0.0 200.0,0.0 200.0,200.0 0.0,200.0\" style=\"fill:#ECB172A0;stroke-width:0\"/>\n",
       "\n",
       "  <!-- Text -->\n",
       "  <text x=\"100.000000\" y=\"220.000000\" font-size=\"1.0rem\" font-weight=\"100\" text-anchor=\"middle\" >10</text>\n",
       "  <text x=\"220.000000\" y=\"100.000000\" font-size=\"1.0rem\" font-weight=\"100\" text-anchor=\"middle\" transform=\"rotate(0,220.000000,100.000000)\">10</text>\n",
       "</svg>\n",
       "            </td>\n",
       "        </tr>\n",
       "        </table>\n",
       "\n",
       "    </details>\n",
       "</div>\n",
       "            \n",
       "            <div style=\"\">\n",
       "    <svg width=\"24\" height=\"24\" viewBox=\"0 0 32 32\" fill=\"none\" xmlns=\"http://www.w3.org/2000/svg\" style=\"position: absolute;\">\n",
       "        \n",
       "        <circle cx=\"16\" cy=\"16\" r=\"14\" fill=\"#8F8F8F\" style=\"stroke: var(--jp-ui-font-color2, #1D1D1D);\" stroke-width=\"2\"/>\n",
       "        \n",
       "    </svg>\n",
       "\n",
       "    <details style=\"margin-left: 32px;\">\n",
       "        <summary style=\"margin-bottom: 10px; margin-top: 10px;\">\n",
       "            <h4 style=\"display: inline;\">Layer2: mean_chunk</h4>\n",
       "        </summary>\n",
       "        <p style=\"color: var(--jp-ui-font-color2, #5D5851); margin: -0.25em 0px 0px 0px;\">\n",
       "            mean_chunk-e53da53fee29184c1b1a2e1133944fe9\n",
       "        </p>\n",
       "\n",
       "        <table>\n",
       "        <tr>\n",
       "            <td>\n",
       "                <table>\n",
       "                \n",
       "                    <tr>\n",
       "                        <th style=\"text-align: left; width: 150px;\">layer_type</th>\n",
       "                        <td style=\"text-align: left;\">Blockwise</td>\n",
       "                    </tr>\n",
       "                \n",
       "                    <tr>\n",
       "                        <th style=\"text-align: left; width: 150px;\">is_materialized</th>\n",
       "                        <td style=\"text-align: left;\">True</td>\n",
       "                    </tr>\n",
       "                \n",
       "                    <tr>\n",
       "                        <th style=\"text-align: left; width: 150px;\">number of outputs</th>\n",
       "                        <td style=\"text-align: left;\">4</td>\n",
       "                    </tr>\n",
       "                \n",
       "                    <tr>\n",
       "                        <th style=\"text-align: left; width: 150px;\">shape</th>\n",
       "                        <td style=\"text-align: left;\">(10, 10)</td>\n",
       "                    </tr>\n",
       "                \n",
       "                    <tr>\n",
       "                        <th style=\"text-align: left; width: 150px;\">dtype</th>\n",
       "                        <td style=\"text-align: left;\">float64</td>\n",
       "                    </tr>\n",
       "                \n",
       "                    <tr>\n",
       "                        <th style=\"text-align: left; width: 150px;\">chunksize</th>\n",
       "                        <td style=\"text-align: left;\">(5, 5)</td>\n",
       "                    </tr>\n",
       "                \n",
       "                    <tr>\n",
       "                        <th style=\"text-align: left; width: 150px;\">type</th>\n",
       "                        <td style=\"text-align: left;\">dask.array.core.Array</td>\n",
       "                    </tr>\n",
       "                \n",
       "                    <tr>\n",
       "                        <th style=\"text-align: left; width: 150px;\">chunk_type</th>\n",
       "                        <td style=\"text-align: left;\">numpy.ndarray</td>\n",
       "                    </tr>\n",
       "                \n",
       "                </table>\n",
       "            </td>\n",
       "            <td>\n",
       "                <svg width=\"250\" height=\"250\" style=\"stroke:rgb(0,0,0);stroke-width:1\" >\n",
       "\n",
       "  <!-- Horizontal lines -->\n",
       "  <line x1=\"0\" y1=\"0\" x2=\"200\" y2=\"0\" style=\"stroke-width:2\" />\n",
       "  <line x1=\"0\" y1=\"100\" x2=\"200\" y2=\"100\" />\n",
       "  <line x1=\"0\" y1=\"200\" x2=\"200\" y2=\"200\" style=\"stroke-width:2\" />\n",
       "\n",
       "  <!-- Vertical lines -->\n",
       "  <line x1=\"0\" y1=\"0\" x2=\"0\" y2=\"200\" style=\"stroke-width:2\" />\n",
       "  <line x1=\"100\" y1=\"0\" x2=\"100\" y2=\"200\" />\n",
       "  <line x1=\"200\" y1=\"0\" x2=\"200\" y2=\"200\" style=\"stroke-width:2\" />\n",
       "\n",
       "  <!-- Colored Rectangle -->\n",
       "  <polygon points=\"0.0,0.0 200.0,0.0 200.0,200.0 0.0,200.0\" style=\"fill:#ECB172A0;stroke-width:0\"/>\n",
       "\n",
       "  <!-- Text -->\n",
       "  <text x=\"100.000000\" y=\"220.000000\" font-size=\"1.0rem\" font-weight=\"100\" text-anchor=\"middle\" >10</text>\n",
       "  <text x=\"220.000000\" y=\"100.000000\" font-size=\"1.0rem\" font-weight=\"100\" text-anchor=\"middle\" transform=\"rotate(0,220.000000,100.000000)\">10</text>\n",
       "</svg>\n",
       "            </td>\n",
       "        </tr>\n",
       "        </table>\n",
       "\n",
       "    </details>\n",
       "</div>\n",
       "            \n",
       "            <div style=\"\">\n",
       "    <svg width=\"24\" height=\"24\" viewBox=\"0 0 32 32\" fill=\"none\" xmlns=\"http://www.w3.org/2000/svg\" style=\"position: absolute;\">\n",
       "        \n",
       "        <circle cx=\"16\" cy=\"16\" r=\"14\" fill=\"#8F8F8F\" style=\"stroke: var(--jp-ui-font-color2, #1D1D1D);\" stroke-width=\"2\"/>\n",
       "        \n",
       "    </svg>\n",
       "\n",
       "    <details style=\"margin-left: 32px;\">\n",
       "        <summary style=\"margin-bottom: 10px; margin-top: 10px;\">\n",
       "            <h4 style=\"display: inline;\">Layer3: mean_agg-aggregate</h4>\n",
       "        </summary>\n",
       "        <p style=\"color: var(--jp-ui-font-color2, #5D5851); margin: -0.25em 0px 0px 0px;\">\n",
       "            mean_agg-aggregate-eadbf76740abf2b9acb4879e1b8b2bf9\n",
       "        </p>\n",
       "\n",
       "        <table>\n",
       "        <tr>\n",
       "            <td>\n",
       "                <table>\n",
       "                \n",
       "                    <tr>\n",
       "                        <th style=\"text-align: left; width: 150px;\">layer_type</th>\n",
       "                        <td style=\"text-align: left;\">MaterializedLayer</td>\n",
       "                    </tr>\n",
       "                \n",
       "                    <tr>\n",
       "                        <th style=\"text-align: left; width: 150px;\">is_materialized</th>\n",
       "                        <td style=\"text-align: left;\">True</td>\n",
       "                    </tr>\n",
       "                \n",
       "                    <tr>\n",
       "                        <th style=\"text-align: left; width: 150px;\">number of outputs</th>\n",
       "                        <td style=\"text-align: left;\">1</td>\n",
       "                    </tr>\n",
       "                \n",
       "                    <tr>\n",
       "                        <th style=\"text-align: left; width: 150px;\">shape</th>\n",
       "                        <td style=\"text-align: left;\">()</td>\n",
       "                    </tr>\n",
       "                \n",
       "                    <tr>\n",
       "                        <th style=\"text-align: left; width: 150px;\">dtype</th>\n",
       "                        <td style=\"text-align: left;\">float64</td>\n",
       "                    </tr>\n",
       "                \n",
       "                    <tr>\n",
       "                        <th style=\"text-align: left; width: 150px;\">chunksize</th>\n",
       "                        <td style=\"text-align: left;\">()</td>\n",
       "                    </tr>\n",
       "                \n",
       "                    <tr>\n",
       "                        <th style=\"text-align: left; width: 150px;\">type</th>\n",
       "                        <td style=\"text-align: left;\">dask.array.core.Array</td>\n",
       "                    </tr>\n",
       "                \n",
       "                    <tr>\n",
       "                        <th style=\"text-align: left; width: 150px;\">chunk_type</th>\n",
       "                        <td style=\"text-align: left;\">numpy.ndarray</td>\n",
       "                    </tr>\n",
       "                \n",
       "                </table>\n",
       "            </td>\n",
       "            <td>\n",
       "                \n",
       "            </td>\n",
       "        </tr>\n",
       "        </table>\n",
       "\n",
       "    </details>\n",
       "</div>\n",
       "            \n",
       "        </div>\n",
       "    </div>\n",
       "</div>"
      ],
      "text/plain": [
       "HighLevelGraph with 3 layers.\n",
       "<dask.highlevelgraph.HighLevelGraph object at 0x179bead3160>\n",
       " 0. array-5d717b017ea5b1f1658a0cb2885909ff\n",
       " 1. mean_chunk-e53da53fee29184c1b1a2e1133944fe9\n",
       " 2. mean_agg-aggregate-eadbf76740abf2b9acb4879e1b8b2bf9"
      ]
     },
     "execution_count": 75,
     "metadata": {},
     "output_type": "execute_result"
    }
   ],
   "source": [
    "mm.dask"
   ]
  },
  {
   "cell_type": "markdown",
   "id": "4808bc32",
   "metadata": {},
   "source": [
    "# Task Graphs\n"
   ]
  },
  {
   "cell_type": "code",
   "execution_count": 74,
   "id": "69fe78af",
   "metadata": {},
   "outputs": [
    {
     "data": {
      "image/png": "[encoded data removed]",
      "text/plain": [
       "<IPython.core.display.Image object>"
      ]
     },
     "execution_count": 74,
     "metadata": {},
     "output_type": "execute_result"
    }
   ],
   "source": [
    "mm.visualize()\n"
   ]
  },
  {
   "cell_type": "code",
   "execution_count": null,
   "id": "d4eaefb6",
   "metadata": {},
   "outputs": [],
   "source": [
    "ddf.a.dask\n",
    "ddf.a.visualize()"
   ]
  },
  {
   "cell_type": "markdown",
   "id": "29107a63",
   "metadata": {},
   "source": [
    "# Interfaces"
   ]
  },
  {
   "cell_type": "code",
   "execution_count": 105,
   "id": "e92c4f51",
   "metadata": {},
   "outputs": [],
   "source": [
    "import dask\n",
    "\n",
    "@dask.delayed\n",
    "def doubled(x):\n",
    "   return 2*x"
   ]
  },
  {
   "cell_type": "code",
   "execution_count": 109,
   "id": "ca9b1ea5",
   "metadata": {},
   "outputs": [
    {
     "data": {
      "text/plain": [
       "Delayed('doubled-5f08d4cc-aaeb-43bb-9577-7c8f055af1fd')"
      ]
     },
     "execution_count": 109,
     "metadata": {},
     "output_type": "execute_result"
    }
   ],
   "source": [
    "doubled(darr)"
   ]
  },
  {
   "cell_type": "code",
   "execution_count": 106,
   "id": "118e44a0",
   "metadata": {},
   "outputs": [],
   "source": [
    "d = doubled(darr)"
   ]
  },
  {
   "cell_type": "code",
   "execution_count": 107,
   "id": "2216e765",
   "metadata": {},
   "outputs": [
    {
     "data": {
      "text/plain": [
       "array([[ 4, 14,  6,  2,  6, 16,  2, 18,  0,  0],\n",
       "       [ 0, 16,  0, 12,  6, 14, 14,  6,  8, 10],\n",
       "       [ 0,  2,  4, 16, 12,  8,  6, 16, 10, 12],\n",
       "       [ 2, 16,  8, 14, 16,  4,  8, 10,  2, 16],\n",
       "       [ 8, 12,  8, 10, 10, 14,  8,  6, 16,  4],\n",
       "       [16, 10,  6,  6, 18,  8, 10,  8,  4, 10],\n",
       "       [18,  6,  2,  8,  0, 18, 10, 12, 14,  6],\n",
       "       [10, 14,  2,  8, 16,  4,  4, 18,  6,  4],\n",
       "       [ 2, 14, 18,  8, 14, 16, 18, 14,  4,  0],\n",
       "       [12,  8,  6,  0, 12, 12, 12, 12,  8,  6]])"
      ]
     },
     "execution_count": 107,
     "metadata": {},
     "output_type": "execute_result"
    }
   ],
   "source": [
    "d.compute()"
   ]
  },
  {
   "cell_type": "code",
   "execution_count": 92,
   "id": "6a23920f",
   "metadata": {},
   "outputs": [],
   "source": [
    "@dask.delayed\n",
    "def foo(x):\n",
    "    return round(x*10)\n",
    "  "
   ]
  },
  {
   "cell_type": "code",
   "execution_count": 93,
   "id": "5cd8c814",
   "metadata": {},
   "outputs": [],
   "source": [
    "f = foo(ddf['1'])"
   ]
  },
  {
   "cell_type": "code",
   "execution_count": 94,
   "id": "37fd2648",
   "metadata": {},
   "outputs": [
    {
     "data": {
      "text/plain": [
       "0    6.0\n",
       "1    3.0\n",
       "2    8.0\n",
       "3    4.0\n",
       "4    3.0\n",
       "5    0.0\n",
       "6    8.0\n",
       "7    7.0\n",
       "8    3.0\n",
       "9    0.0\n",
       "Name: 1, dtype: float64"
      ]
     },
     "execution_count": 94,
     "metadata": {},
     "output_type": "execute_result"
    }
   ],
   "source": [
    "f.compute()"
   ]
  },
  {
   "cell_type": "code",
   "execution_count": 95,
   "id": "f341b905",
   "metadata": {},
   "outputs": [
    {
     "data": {
      "image/png": "[encoded data removed]",
      "text/plain": [
       "<IPython.core.display.Image object>"
      ]
     },
     "execution_count": 95,
     "metadata": {},
     "output_type": "execute_result"
    }
   ],
   "source": [
    "f.visualize()"
   ]
  },
  {
   "cell_type": "code",
   "execution_count": null,
   "id": "9dce30f1",
   "metadata": {},
   "outputs": [],
   "source": [
    "from dask.distributed import Client\n",
    "\n",
    "client = Client()\n",
    "\n",
    "def inc(x):\n",
    "   return x + 1\n",
    "\n",
    "def add(x, y):\n",
    "   return x + y\n",
    "\n",
    "a = client.submit(inc, 1)     # work starts immediately\n",
    "b = client.submit(inc, 2)     # work starts immediately\n",
    "c = client.submit(add, a, b)  # work starts immediately\n",
    "\n",
    "c = c.result()                # block until work finishes, then gather result\n",
    "c"
   ]
  },
  {
   "cell_type": "markdown",
   "id": "ce155360",
   "metadata": {},
   "source": [
    "# Diagnostics"
   ]
  },
  {
   "cell_type": "code",
   "execution_count": null,
   "id": "78ff75b1",
   "metadata": {},
   "outputs": [],
   "source": [
    "client.dashboard_link"
   ]
  },
  {
   "cell_type": "markdown",
   "id": "87072897",
   "metadata": {},
   "source": [
    "# Esempio"
   ]
  },
  {
   "cell_type": "code",
   "execution_count": 36,
   "id": "657c0e33",
   "metadata": {},
   "outputs": [],
   "source": [
    "#CSV Dataset Russell Stock History\n",
    "import pandas as pd\n",
    "df = pd.read_csv('Prices.csv')"
   ]
  },
  {
   "cell_type": "code",
   "execution_count": 37,
   "id": "45ef11ad",
   "metadata": {
    "scrolled": true
   },
   "outputs": [
    {
     "data": {
      "text/html": [
       "<div>\n",
       "<style scoped>\n",
       "    .dataframe tbody tr th:only-of-type {\n",
       "        vertical-align: middle;\n",
       "    }\n",
       "\n",
       "    .dataframe tbody tr th {\n",
       "        vertical-align: top;\n",
       "    }\n",
       "\n",
       "    .dataframe thead th {\n",
       "        text-align: right;\n",
       "    }\n",
       "</style>\n",
       "<table border=\"1\" class=\"dataframe\">\n",
       "  <thead>\n",
       "    <tr style=\"text-align: right;\">\n",
       "      <th></th>\n",
       "      <th>Unnamed: 0</th>\n",
       "      <th>symbol</th>\n",
       "      <th>date</th>\n",
       "      <th>open</th>\n",
       "      <th>high</th>\n",
       "      <th>low</th>\n",
       "      <th>close</th>\n",
       "      <th>volume</th>\n",
       "      <th>adjusted</th>\n",
       "    </tr>\n",
       "  </thead>\n",
       "  <tbody>\n",
       "    <tr>\n",
       "      <th>0</th>\n",
       "      <td>1</td>\n",
       "      <td>FLWS</td>\n",
       "      <td>1999-08-03</td>\n",
       "      <td>21.7500</td>\n",
       "      <td>22.2500</td>\n",
       "      <td>17.875</td>\n",
       "      <td>18.1875</td>\n",
       "      <td>9543400.0</td>\n",
       "      <td>18.1875</td>\n",
       "    </tr>\n",
       "    <tr>\n",
       "      <th>1</th>\n",
       "      <td>2</td>\n",
       "      <td>FLWS</td>\n",
       "      <td>1999-08-04</td>\n",
       "      <td>18.9375</td>\n",
       "      <td>20.5000</td>\n",
       "      <td>16.875</td>\n",
       "      <td>17.0000</td>\n",
       "      <td>4731800.0</td>\n",
       "      <td>17.0000</td>\n",
       "    </tr>\n",
       "    <tr>\n",
       "      <th>2</th>\n",
       "      <td>3</td>\n",
       "      <td>FLWS</td>\n",
       "      <td>1999-08-05</td>\n",
       "      <td>17.0625</td>\n",
       "      <td>17.1250</td>\n",
       "      <td>13.500</td>\n",
       "      <td>16.0000</td>\n",
       "      <td>2851900.0</td>\n",
       "      <td>16.0000</td>\n",
       "    </tr>\n",
       "    <tr>\n",
       "      <th>3</th>\n",
       "      <td>4</td>\n",
       "      <td>FLWS</td>\n",
       "      <td>1999-08-06</td>\n",
       "      <td>16.0000</td>\n",
       "      <td>17.7500</td>\n",
       "      <td>16.000</td>\n",
       "      <td>17.0000</td>\n",
       "      <td>1411800.0</td>\n",
       "      <td>17.0000</td>\n",
       "    </tr>\n",
       "    <tr>\n",
       "      <th>4</th>\n",
       "      <td>5</td>\n",
       "      <td>FLWS</td>\n",
       "      <td>1999-08-09</td>\n",
       "      <td>17.9375</td>\n",
       "      <td>17.9375</td>\n",
       "      <td>15.875</td>\n",
       "      <td>16.0000</td>\n",
       "      <td>583000.0</td>\n",
       "      <td>16.0000</td>\n",
       "    </tr>\n",
       "    <tr>\n",
       "      <th>...</th>\n",
       "      <td>...</td>\n",
       "      <td>...</td>\n",
       "      <td>...</td>\n",
       "      <td>...</td>\n",
       "      <td>...</td>\n",
       "      <td>...</td>\n",
       "      <td>...</td>\n",
       "      <td>...</td>\n",
       "      <td>...</td>\n",
       "    </tr>\n",
       "    <tr>\n",
       "      <th>12995440</th>\n",
       "      <td>12995441</td>\n",
       "      <td>ZUMZ</td>\n",
       "      <td>2022-11-07</td>\n",
       "      <td>22.4100</td>\n",
       "      <td>22.8800</td>\n",
       "      <td>22.020</td>\n",
       "      <td>22.6700</td>\n",
       "      <td>172900.0</td>\n",
       "      <td>22.6700</td>\n",
       "    </tr>\n",
       "    <tr>\n",
       "      <th>12995441</th>\n",
       "      <td>12995442</td>\n",
       "      <td>ZUMZ</td>\n",
       "      <td>2022-11-08</td>\n",
       "      <td>22.8700</td>\n",
       "      <td>23.3600</td>\n",
       "      <td>22.220</td>\n",
       "      <td>22.4700</td>\n",
       "      <td>311800.0</td>\n",
       "      <td>22.4700</td>\n",
       "    </tr>\n",
       "    <tr>\n",
       "      <th>12995442</th>\n",
       "      <td>12995443</td>\n",
       "      <td>ZUMZ</td>\n",
       "      <td>2022-11-09</td>\n",
       "      <td>22.3600</td>\n",
       "      <td>22.4300</td>\n",
       "      <td>20.640</td>\n",
       "      <td>20.7800</td>\n",
       "      <td>239800.0</td>\n",
       "      <td>20.7800</td>\n",
       "    </tr>\n",
       "    <tr>\n",
       "      <th>12995443</th>\n",
       "      <td>12995444</td>\n",
       "      <td>ZUMZ</td>\n",
       "      <td>2022-11-10</td>\n",
       "      <td>21.8300</td>\n",
       "      <td>23.6900</td>\n",
       "      <td>21.780</td>\n",
       "      <td>23.5100</td>\n",
       "      <td>327600.0</td>\n",
       "      <td>23.5100</td>\n",
       "    </tr>\n",
       "    <tr>\n",
       "      <th>12995444</th>\n",
       "      <td>12995445</td>\n",
       "      <td>ZUMZ</td>\n",
       "      <td>2022-11-11</td>\n",
       "      <td>23.7700</td>\n",
       "      <td>24.6200</td>\n",
       "      <td>23.670</td>\n",
       "      <td>24.2800</td>\n",
       "      <td>205000.0</td>\n",
       "      <td>24.2800</td>\n",
       "    </tr>\n",
       "  </tbody>\n",
       "</table>\n",
       "<p>12995445 rows × 9 columns</p>\n",
       "</div>"
      ],
      "text/plain": [
       "          Unnamed: 0 symbol        date     open     high     low    close  \\\n",
       "0                  1   FLWS  1999-08-03  21.7500  22.2500  17.875  18.1875   \n",
       "1                  2   FLWS  1999-08-04  18.9375  20.5000  16.875  17.0000   \n",
       "2                  3   FLWS  1999-08-05  17.0625  17.1250  13.500  16.0000   \n",
       "3                  4   FLWS  1999-08-06  16.0000  17.7500  16.000  17.0000   \n",
       "4                  5   FLWS  1999-08-09  17.9375  17.9375  15.875  16.0000   \n",
       "...              ...    ...         ...      ...      ...     ...      ...   \n",
       "12995440    12995441   ZUMZ  2022-11-07  22.4100  22.8800  22.020  22.6700   \n",
       "12995441    12995442   ZUMZ  2022-11-08  22.8700  23.3600  22.220  22.4700   \n",
       "12995442    12995443   ZUMZ  2022-11-09  22.3600  22.4300  20.640  20.7800   \n",
       "12995443    12995444   ZUMZ  2022-11-10  21.8300  23.6900  21.780  23.5100   \n",
       "12995444    12995445   ZUMZ  2022-11-11  23.7700  24.6200  23.670  24.2800   \n",
       "\n",
       "             volume  adjusted  \n",
       "0         9543400.0   18.1875  \n",
       "1         4731800.0   17.0000  \n",
       "2         2851900.0   16.0000  \n",
       "3         1411800.0   17.0000  \n",
       "4          583000.0   16.0000  \n",
       "...             ...       ...  \n",
       "12995440   172900.0   22.6700  \n",
       "12995441   311800.0   22.4700  \n",
       "12995442   239800.0   20.7800  \n",
       "12995443   327600.0   23.5100  \n",
       "12995444   205000.0   24.2800  \n",
       "\n",
       "[12995445 rows x 9 columns]"
      ]
     },
     "execution_count": 37,
     "metadata": {},
     "output_type": "execute_result"
    }
   ],
   "source": [
    "df"
   ]
  },
  {
   "cell_type": "code",
   "execution_count": 38,
   "id": "7d4448b9",
   "metadata": {},
   "outputs": [
    {
     "data": {
      "text/html": [
       "<div>\n",
       "<style scoped>\n",
       "    .dataframe tbody tr th:only-of-type {\n",
       "        vertical-align: middle;\n",
       "    }\n",
       "\n",
       "    .dataframe tbody tr th {\n",
       "        vertical-align: top;\n",
       "    }\n",
       "\n",
       "    .dataframe thead th {\n",
       "        text-align: right;\n",
       "    }\n",
       "</style>\n",
       "<table border=\"1\" class=\"dataframe\">\n",
       "  <thead>\n",
       "    <tr style=\"text-align: right;\">\n",
       "      <th></th>\n",
       "      <th>Unnamed: 0</th>\n",
       "      <th>symbol</th>\n",
       "      <th>date</th>\n",
       "      <th>open</th>\n",
       "      <th>high</th>\n",
       "      <th>low</th>\n",
       "      <th>close</th>\n",
       "      <th>volume</th>\n",
       "      <th>adjusted</th>\n",
       "    </tr>\n",
       "  </thead>\n",
       "  <tbody>\n",
       "    <tr>\n",
       "      <th>0</th>\n",
       "      <td>1</td>\n",
       "      <td>FLWS</td>\n",
       "      <td>1999-08-03</td>\n",
       "      <td>21.7500</td>\n",
       "      <td>22.2500</td>\n",
       "      <td>17.875</td>\n",
       "      <td>18.1875</td>\n",
       "      <td>9543400.0</td>\n",
       "      <td>18.1875</td>\n",
       "    </tr>\n",
       "    <tr>\n",
       "      <th>1</th>\n",
       "      <td>2</td>\n",
       "      <td>FLWS</td>\n",
       "      <td>1999-08-04</td>\n",
       "      <td>18.9375</td>\n",
       "      <td>20.5000</td>\n",
       "      <td>16.875</td>\n",
       "      <td>17.0000</td>\n",
       "      <td>4731800.0</td>\n",
       "      <td>17.0000</td>\n",
       "    </tr>\n",
       "    <tr>\n",
       "      <th>2</th>\n",
       "      <td>3</td>\n",
       "      <td>FLWS</td>\n",
       "      <td>1999-08-05</td>\n",
       "      <td>17.0625</td>\n",
       "      <td>17.1250</td>\n",
       "      <td>13.500</td>\n",
       "      <td>16.0000</td>\n",
       "      <td>2851900.0</td>\n",
       "      <td>16.0000</td>\n",
       "    </tr>\n",
       "    <tr>\n",
       "      <th>3</th>\n",
       "      <td>4</td>\n",
       "      <td>FLWS</td>\n",
       "      <td>1999-08-06</td>\n",
       "      <td>16.0000</td>\n",
       "      <td>17.7500</td>\n",
       "      <td>16.000</td>\n",
       "      <td>17.0000</td>\n",
       "      <td>1411800.0</td>\n",
       "      <td>17.0000</td>\n",
       "    </tr>\n",
       "    <tr>\n",
       "      <th>4</th>\n",
       "      <td>5</td>\n",
       "      <td>FLWS</td>\n",
       "      <td>1999-08-09</td>\n",
       "      <td>17.9375</td>\n",
       "      <td>17.9375</td>\n",
       "      <td>15.875</td>\n",
       "      <td>16.0000</td>\n",
       "      <td>583000.0</td>\n",
       "      <td>16.0000</td>\n",
       "    </tr>\n",
       "  </tbody>\n",
       "</table>\n",
       "</div>"
      ],
      "text/plain": [
       "   Unnamed: 0 symbol        date     open     high     low    close  \\\n",
       "0           1   FLWS  1999-08-03  21.7500  22.2500  17.875  18.1875   \n",
       "1           2   FLWS  1999-08-04  18.9375  20.5000  16.875  17.0000   \n",
       "2           3   FLWS  1999-08-05  17.0625  17.1250  13.500  16.0000   \n",
       "3           4   FLWS  1999-08-06  16.0000  17.7500  16.000  17.0000   \n",
       "4           5   FLWS  1999-08-09  17.9375  17.9375  15.875  16.0000   \n",
       "\n",
       "      volume  adjusted  \n",
       "0  9543400.0   18.1875  \n",
       "1  4731800.0   17.0000  \n",
       "2  2851900.0   16.0000  \n",
       "3  1411800.0   17.0000  \n",
       "4   583000.0   16.0000  "
      ]
     },
     "execution_count": 38,
     "metadata": {},
     "output_type": "execute_result"
    }
   ],
   "source": [
    "df.head()"
   ]
  },
  {
   "cell_type": "code",
   "execution_count": 39,
   "id": "33321c53",
   "metadata": {},
   "outputs": [
    {
     "name": "stdout",
     "output_type": "stream",
     "text": [
      "<class 'pandas.core.frame.DataFrame'>\n",
      "RangeIndex: 12995445 entries, 0 to 12995444\n",
      "Data columns (total 9 columns):\n",
      " #   Column      Dtype  \n",
      "---  ------      -----  \n",
      " 0   Unnamed: 0  int64  \n",
      " 1   symbol      object \n",
      " 2   date        object \n",
      " 3   open        float64\n",
      " 4   high        float64\n",
      " 5   low         float64\n",
      " 6   close       float64\n",
      " 7   volume      float64\n",
      " 8   adjusted    float64\n",
      "dtypes: float64(6), int64(1), object(2)\n",
      "memory usage: 2.2 GB\n"
     ]
    }
   ],
   "source": [
    "df.info(memory_usage=\"deep\")"
   ]
  },
  {
   "cell_type": "code",
   "execution_count": 82,
   "id": "85208d00",
   "metadata": {},
   "outputs": [],
   "source": [
    "def sub(x, y):\n",
    "   return x - y"
   ]
  },
  {
   "cell_type": "code",
   "execution_count": 78,
   "id": "664ac613",
   "metadata": {},
   "outputs": [
    {
     "name": "stdout",
     "output_type": "stream",
     "text": [
      "CPU times: total: 15.6 ms\n",
      "Wall time: 28.5 ms\n"
     ]
    },
    {
     "data": {
      "text/plain": [
       "0           3.5625\n",
       "1           1.9375\n",
       "2           1.0625\n",
       "3          -1.0000\n",
       "4           1.9375\n",
       "             ...  \n",
       "12995440   -0.2600\n",
       "12995441    0.4000\n",
       "12995442    1.5800\n",
       "12995443   -1.6800\n",
       "12995444   -0.5100\n",
       "Length: 12995445, dtype: float64"
      ]
     },
     "execution_count": 78,
     "metadata": {},
     "output_type": "execute_result"
    }
   ],
   "source": [
    "%%time\n",
    "sub(df['open'],df['close'])"
   ]
  },
  {
   "cell_type": "code",
   "execution_count": null,
   "id": "27de4bfb",
   "metadata": {},
   "outputs": [],
   "source": [
    "#%timeit df.groupby('symbol').volume.mean()\n",
    "df.groupby('symbol').volume.mean()"
   ]
  },
  {
   "cell_type": "code",
   "execution_count": 79,
   "id": "c19d37bc",
   "metadata": {},
   "outputs": [],
   "source": [
    "import dask.dataframe as dd\n",
    "ddf = dd.read_csv('Prices.csv', dtype={'volume': 'float64'})"
   ]
  },
  {
   "cell_type": "code",
   "execution_count": 83,
   "id": "51b7a196",
   "metadata": {},
   "outputs": [],
   "source": [
    "import dask\n",
    "\n",
    "@dask.delayed\n",
    "def sub(x, y):\n",
    "   return x - y"
   ]
  },
  {
   "cell_type": "code",
   "execution_count": 85,
   "id": "8fd40ea5",
   "metadata": {},
   "outputs": [],
   "source": [
    "c = sub(ddf['open'],ddf['close'])"
   ]
  },
  {
   "cell_type": "code",
   "execution_count": 86,
   "id": "68789411",
   "metadata": {},
   "outputs": [
    {
     "name": "stdout",
     "output_type": "stream",
     "text": [
      "CPU times: total: 4.67 s\n",
      "Wall time: 4.79 s\n"
     ]
    },
    {
     "data": {
      "text/plain": [
       "0         3.5625\n",
       "1         1.9375\n",
       "2         1.0625\n",
       "3        -1.0000\n",
       "4         1.9375\n",
       "           ...  \n",
       "991985   -0.2600\n",
       "991986    0.4000\n",
       "991987    1.5800\n",
       "991988   -1.6800\n",
       "991989   -0.5100\n",
       "Length: 12995445, dtype: float64"
      ]
     },
     "execution_count": 86,
     "metadata": {},
     "output_type": "execute_result"
    }
   ],
   "source": [
    "%%time\n",
    "\n",
    "c.compute()"
   ]
  },
  {
   "cell_type": "code",
   "execution_count": 11,
   "id": "edba3d8d",
   "metadata": {},
   "outputs": [],
   "source": [
    "mean = ddf.groupby('symbol').volume.mean()"
   ]
  },
  {
   "cell_type": "code",
   "execution_count": 12,
   "id": "5f89884f",
   "metadata": {},
   "outputs": [
    {
     "name": "stdout",
     "output_type": "stream",
     "text": [
      "7.36 s ± 389 ms per loop (mean ± std. dev. of 7 runs, 1 loop each)\n"
     ]
    }
   ],
   "source": [
    "%timeit mean.compute()"
   ]
  },
  {
   "cell_type": "code",
   "execution_count": 15,
   "id": "dc324e23",
   "metadata": {},
   "outputs": [],
   "source": [
    "ddf2 = dd.read_csv('Prices.csv', dtype={'volume': 'float64'}, blocksize=120e6)\n",
    "mean2 = ddf.groupby('symbol').volume.mean()"
   ]
  },
  {
   "cell_type": "code",
   "execution_count": 17,
   "id": "b15a5e55",
   "metadata": {},
   "outputs": [
    {
     "name": "stdout",
     "output_type": "stream",
     "text": [
      "6.41 s ± 508 ms per loop (mean ± std. dev. of 7 runs, 1 loop each)\n"
     ]
    }
   ],
   "source": [
    "%timeit mean2.compute()"
   ]
  },
  {
   "cell_type": "code",
   "execution_count": 18,
   "id": "6c25c051",
   "metadata": {},
   "outputs": [
    {
     "data": {
      "image/png": "[encoded data removed]",
      "text/plain": [
       "<IPython.core.display.Image object>"
      ]
     },
     "execution_count": 18,
     "metadata": {},
     "output_type": "execute_result"
    }
   ],
   "source": [
    "ddf.dask\n",
    "ddf.visualize()"
   ]
  },
  {
   "cell_type": "code",
   "execution_count": 19,
   "id": "a65c4be0",
   "metadata": {},
   "outputs": [
    {
     "data": {
      "image/png": "[encoded data removed]",
      "text/plain": [
       "<IPython.core.display.Image object>"
      ]
     },
     "execution_count": 19,
     "metadata": {},
     "output_type": "execute_result"
    }
   ],
   "source": [
    "ddf2.dask\n",
    "ddf2.visualize()"
   ]
  },
  {
   "cell_type": "code",
   "execution_count": null,
   "id": "e0b0413d",
   "metadata": {},
   "outputs": [],
   "source": [
    "sdf = pd.concat([df, df, df, df])"
   ]
  },
  {
   "cell_type": "code",
   "execution_count": null,
   "id": "8fd84cfc",
   "metadata": {},
   "outputs": [],
   "source": [
    "sdf\n"
   ]
  },
  {
   "cell_type": "code",
   "execution_count": null,
   "id": "642b0b76",
   "metadata": {},
   "outputs": [],
   "source": [
    "%timeit sdf.groupby('symbol').volume.mean()\n"
   ]
  },
  {
   "cell_type": "code",
   "execution_count": 34,
   "id": "581fee56",
   "metadata": {},
   "outputs": [],
   "source": [
    "sddf = dd.from_pandas(sdf, npartitions=8)"
   ]
  },
  {
   "cell_type": "code",
   "execution_count": 35,
   "id": "91274d5b",
   "metadata": {},
   "outputs": [],
   "source": [
    "mean3 = ddf.groupby('symbol').volume.mean()"
   ]
  },
  {
   "cell_type": "code",
   "execution_count": 36,
   "id": "8f6dccbe",
   "metadata": {},
   "outputs": [
    {
     "name": "stdout",
     "output_type": "stream",
     "text": [
      "6.02 s ± 264 ms per loop (mean ± std. dev. of 7 runs, 1 loop each)\n"
     ]
    }
   ],
   "source": [
    "%timeit mean3.compute()"
   ]
  },
  {
   "cell_type": "code",
   "execution_count": null,
   "id": "6c273e2b",
   "metadata": {},
   "outputs": [],
   "source": [
    "df.info(memory_usage=\"deep\")"
   ]
  }
 ],
 "metadata": {
  "kernelspec": {
   "display_name": "Python 3 (ipykernel)",
   "language": "python",
   "name": "python3"
  },
  "language_info": {
   "codemirror_mode": {
    "name": "ipython",
    "version": 3
   },
   "file_extension": ".py",
   "mimetype": "text/x-python",
   "name": "python",
   "nbconvert_exporter": "python",
   "pygments_lexer": "ipython3",
   "version": "3.8.15"
  }
 },
 "nbformat": 4,
 "nbformat_minor": 5
}
